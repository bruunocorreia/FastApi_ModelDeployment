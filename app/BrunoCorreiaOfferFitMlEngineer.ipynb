{
 "cells": [
  {
   "cell_type": "code",
   "execution_count": 1,
   "id": "d7e58565",
   "metadata": {},
   "outputs": [],
   "source": [
    "from __future__ import annotations\n",
    "import numpy as np\n",
    "import pandas as pd\n",
    "\n",
    "\n",
    "class DataModeler:\n",
    "    def __init__(self, sample_df: pd.DataFrame):\n",
    "        '''\n",
    "        Initialize the DataModeler as necessary.\n",
    "        '''\n",
    "        # ** Your code here **\n",
    "        self.train_df = sample_df.copy()\n",
    "        self.model = None\n",
    "        \n",
    "    def prepare_data(self, oos_df: pd.DataFrame = None) -> pd.DataFrame:\n",
    "        '''\n",
    "        Prepare a dataframe so it contains only the columns to model and having suitable types.\n",
    "        If the argument is None, work on the training data passed in the constructor.\n",
    "        '''\n",
    "        # ** Your code here **\n",
    "        if oos_df is None:\n",
    "            df = self.train_df.copy()\n",
    "        else:\n",
    "            df = oos_df.copy()\n",
    "        \n",
    "        # Convert the 'transaction_date' column to datetime\n",
    "        df['transaction_date'] = df['transaction_date'].astype('datetime64[s]')\n",
    "\n",
    "        # Convert the 'transaction_date' column to float values with handling of NaT values\n",
    "        df['transaction_date'] = df['transaction_date'].apply(lambda x: x.timestamp() if not pd.isna(x) else np.nan)\n",
    "\n",
    "        # Convert the 'transaction_date' column to floating-point numbers without truncating decimal values\n",
    "        df['transaction_date'] = pd.to_numeric(df['transaction_date'])\n",
    "        \n",
    "        # Define columns you want to select\n",
    "        features = ['transaction_date', 'amount', 'outcome']\n",
    "\n",
    "        # Select features that exist in the DataFrame\n",
    "        selected_features = [col for col in features if col in df.columns]\n",
    "\n",
    "        # Create a new DataFrame with the selected features\n",
    "        df = df[selected_features]\n",
    "\n",
    "        return df\n",
    "\n",
    "    def impute_missing(self, oos_df: pd.DataFrame = None) -> pd.DataFrame:\n",
    "        '''\n",
    "        Fill any missing values with the appropriate mean (average) value.\n",
    "        If the argument is None, work on the training data passed in the constructor.\n",
    "        Hint: Watch out for data leakage in your solution.\n",
    "        '''\n",
    "        # ** Your code here **\n",
    "        if oos_df is None:\n",
    "            df = self.train_df.copy()\n",
    "        else:\n",
    "            df = oos_df.copy()\n",
    "            \n",
    "        # Apply data preparation steps from prepare_data\n",
    "        df = self.prepare_data(df)\n",
    "        \n",
    "        #Define the mean\n",
    "        train_metrics = self.prepare_data(self.train_df.copy())\n",
    "        mean_amount = train_metrics['amount'].mean()\n",
    "        mean_transaction = train_metrics['transaction_date'].mean()\n",
    "        \n",
    "        # Impute missing values in amount and transcation date with the mean of the numeric values in the training data\n",
    "        df['amount'] = df['amount'].fillna(mean_amount)\n",
    "        df['transaction_date'] = df['transaction_date'].fillna(mean_transaction)\n",
    "\n",
    "        return df\n",
    "\n",
    "    def fit(self) -> None:\n",
    "        '''\n",
    "        Fit the model of your choice on the training data paased in the constructor, assuming it has\n",
    "        been prepared by the functions prepare_data and impute_missing\n",
    "        '''\n",
    "        # ** Your code here **\n",
    "        # Choose a model\n",
    "        # ** Your code here **\n",
    "        \n",
    "        # Choose a model\n",
    "        from sklearn.ensemble import GradientBoostingClassifier\n",
    "        \n",
    "        # Apply imputation of missing values\n",
    "        train_df= self.impute_missing(self.train_df.copy())\n",
    "        \n",
    "        # Fit the model\n",
    "        self.model = GradientBoostingClassifier().fit(train_df.drop(columns=[\"outcome\"]), train_df[\"outcome\"])\n",
    "\n",
    "\n",
    "    def model_summary(self) -> str:\n",
    "        '''\n",
    "        Create a short summary of the model you have fit.\n",
    "        '''\n",
    "        # Choose a model\n",
    "        from sklearn.ensemble import GradientBoostingClassifier\n",
    "        \n",
    "        # ** Your code here **\n",
    "        if self.model is None:\n",
    "            return \"Model has not been trained yet.\"\n",
    "\n",
    "        ##  GradientBoostingClassifier model\n",
    "        if isinstance(self.model, GradientBoostingClassifier):\n",
    "            feature_importance = self.model.feature_importances_\n",
    "            params = self.model.get_params()\n",
    "\n",
    "            summary = f\"Gradient Boosting Model Summary:\\n\"\n",
    "            summary += f\"Feature Importance: {feature_importance}\\n\"\n",
    "            summary += f\"Model Parameters: {params}\\n\"\n",
    "            return summary\n",
    "\n",
    "        return \"Model summary not available for this model type.\"\n",
    "\n",
    "    def predict(self, oos_df: pd.DataFrame = None) -> pd.Series[bool]:\n",
    "        '''\n",
    "        Make a set of predictions with your model. Assume the data has been prepared by the\n",
    "        functions prepare_data and impute_missing.\n",
    "        If the argument is None, work on the training data passed in the constructor.\n",
    "        '''\n",
    "\n",
    "        # Make sure the input data has the same columns as the training data\n",
    "        if oos_df is None:\n",
    "            df = self.impute_missing(self.train_df.copy())\n",
    "            #drop target\n",
    "            df.drop(columns=['outcome'], inplace=True)\n",
    "        else:\n",
    "            df = self.impute_missing(oos_df.copy())\n",
    "            \n",
    "        predictions = self.model.predict(df)\n",
    "\n",
    "        return predictions\n",
    "\n",
    "    def save(self, path: str) -> None:\n",
    "        '''\n",
    "        Save the DataModeler so it can be re-used.\n",
    "        '''\n",
    "        # ** Your code here **\n",
    "        # Salvar o modelo, se necessário\n",
    "        import pickle\n",
    "\n",
    "        with open(path, \"wb\") as f:\n",
    "            pickle.dump(self, f)\n",
    "\n",
    "    @staticmethod\n",
    "    def load(path: str) -> DataModeler:\n",
    "        '''\n",
    "        Reload the DataModeler from the saved state so it can be re-used.\n",
    "        '''\n",
    "        # ** Your code here **\n",
    "        # Carregar um modelo previamente salvo, se necessário\n",
    "        import pickle\n",
    "\n",
    "        with open(path, \"rb\") as f:\n",
    "            modeler = pickle.load(f)\n",
    "\n",
    "        return modeler"
   ]
  },
  {
   "cell_type": "code",
   "execution_count": 2,
   "id": "71e28e52",
   "metadata": {},
   "outputs": [
    {
     "data": {
      "text/plain": [
       "'C:\\\\Users\\\\Bruno\\\\Desktop\\\\OfferFit'"
      ]
     },
     "execution_count": 2,
     "metadata": {},
     "output_type": "execute_result"
    }
   ],
   "source": [
    "pwd"
   ]
  },
  {
   "cell_type": "markdown",
   "id": "e4ad32ff",
   "metadata": {},
   "source": [
    "### Data"
   ]
  },
  {
   "cell_type": "code",
   "execution_count": 3,
   "id": "fb8168bd",
   "metadata": {},
   "outputs": [],
   "source": [
    "# You should not have to modify the code below this point\n",
    "\n",
    "transact_train_sample = pd.DataFrame(\n",
    "    {\n",
    "        \"customer_id\": [11, 12, 13, 14, 15, 16, 17, 18, 19, 20],\n",
    "        \"amount\": [1, 3, 12, 6, 0.5, 0.2, np.nan, 5, np.nan, 3],\n",
    "        \"transaction_date\": [\n",
    "            '2022-01-01',\n",
    "            '2022-08-01',\n",
    "            None,\n",
    "            '2022-12-01',\n",
    "            '2022-02-01',\n",
    "            None,\n",
    "            '2022-02-01',\n",
    "            '2022-01-01',\n",
    "            '2022-11-01',\n",
    "            '2022-01-01'\n",
    "        ],\n",
    "        \"outcome\" : [False, True, True, True, False, False, True, True, True, False]\n",
    "    }\n",
    ")\n"
   ]
  },
  {
   "cell_type": "code",
   "execution_count": 4,
   "id": "6fe4b939",
   "metadata": {},
   "outputs": [
    {
     "name": "stdout",
     "output_type": "stream",
     "text": [
      "Training sample:\n",
      "   customer_id  amount transaction_date  outcome\n",
      "0           11     1.0       2022-01-01    False\n",
      "1           12     3.0       2022-08-01     True\n",
      "2           13    12.0             None     True\n",
      "3           14     6.0       2022-12-01     True\n",
      "4           15     0.5       2022-02-01    False\n",
      "5           16     0.2             None    False\n",
      "6           17     NaN       2022-02-01     True\n",
      "7           18     5.0       2022-01-01     True\n",
      "8           19     NaN       2022-11-01     True\n",
      "9           20     3.0       2022-01-01    False\n",
      "\n"
     ]
    }
   ],
   "source": [
    "print(f\"Training sample:\\n{transact_train_sample}\\n\")"
   ]
  },
  {
   "cell_type": "code",
   "execution_count": 5,
   "id": "73365788",
   "metadata": {},
   "outputs": [
    {
     "name": "stdout",
     "output_type": "stream",
     "text": [
      "Current dtypes:\n",
      "customer_id           int64\n",
      "amount              float64\n",
      "transaction_date     object\n",
      "outcome                bool\n",
      "dtype: object\n",
      "\n"
     ]
    }
   ],
   "source": [
    "print(f\"Current dtypes:\\n{transact_train_sample.dtypes}\\n\")"
   ]
  },
  {
   "cell_type": "code",
   "execution_count": 6,
   "id": "a93add29",
   "metadata": {},
   "outputs": [],
   "source": [
    "transactions_modeler = DataModeler(transact_train_sample)"
   ]
  },
  {
   "cell_type": "code",
   "execution_count": 7,
   "id": "4645b282",
   "metadata": {},
   "outputs": [
    {
     "data": {
      "text/html": [
       "<div>\n",
       "<style scoped>\n",
       "    .dataframe tbody tr th:only-of-type {\n",
       "        vertical-align: middle;\n",
       "    }\n",
       "\n",
       "    .dataframe tbody tr th {\n",
       "        vertical-align: top;\n",
       "    }\n",
       "\n",
       "    .dataframe thead th {\n",
       "        text-align: right;\n",
       "    }\n",
       "</style>\n",
       "<table border=\"1\" class=\"dataframe\">\n",
       "  <thead>\n",
       "    <tr style=\"text-align: right;\">\n",
       "      <th></th>\n",
       "      <th>transaction_date</th>\n",
       "      <th>amount</th>\n",
       "      <th>outcome</th>\n",
       "    </tr>\n",
       "  </thead>\n",
       "  <tbody>\n",
       "    <tr>\n",
       "      <th>0</th>\n",
       "      <td>1.640995e+09</td>\n",
       "      <td>1.0</td>\n",
       "      <td>False</td>\n",
       "    </tr>\n",
       "    <tr>\n",
       "      <th>1</th>\n",
       "      <td>1.659312e+09</td>\n",
       "      <td>3.0</td>\n",
       "      <td>True</td>\n",
       "    </tr>\n",
       "    <tr>\n",
       "      <th>2</th>\n",
       "      <td>NaN</td>\n",
       "      <td>12.0</td>\n",
       "      <td>True</td>\n",
       "    </tr>\n",
       "    <tr>\n",
       "      <th>3</th>\n",
       "      <td>1.669853e+09</td>\n",
       "      <td>6.0</td>\n",
       "      <td>True</td>\n",
       "    </tr>\n",
       "    <tr>\n",
       "      <th>4</th>\n",
       "      <td>1.643674e+09</td>\n",
       "      <td>0.5</td>\n",
       "      <td>False</td>\n",
       "    </tr>\n",
       "    <tr>\n",
       "      <th>5</th>\n",
       "      <td>NaN</td>\n",
       "      <td>0.2</td>\n",
       "      <td>False</td>\n",
       "    </tr>\n",
       "    <tr>\n",
       "      <th>6</th>\n",
       "      <td>1.643674e+09</td>\n",
       "      <td>NaN</td>\n",
       "      <td>True</td>\n",
       "    </tr>\n",
       "    <tr>\n",
       "      <th>7</th>\n",
       "      <td>1.640995e+09</td>\n",
       "      <td>5.0</td>\n",
       "      <td>True</td>\n",
       "    </tr>\n",
       "    <tr>\n",
       "      <th>8</th>\n",
       "      <td>1.667261e+09</td>\n",
       "      <td>NaN</td>\n",
       "      <td>True</td>\n",
       "    </tr>\n",
       "    <tr>\n",
       "      <th>9</th>\n",
       "      <td>1.640995e+09</td>\n",
       "      <td>3.0</td>\n",
       "      <td>False</td>\n",
       "    </tr>\n",
       "  </tbody>\n",
       "</table>\n",
       "</div>"
      ],
      "text/plain": [
       "   transaction_date  amount  outcome\n",
       "0      1.640995e+09     1.0    False\n",
       "1      1.659312e+09     3.0     True\n",
       "2               NaN    12.0     True\n",
       "3      1.669853e+09     6.0     True\n",
       "4      1.643674e+09     0.5    False\n",
       "5               NaN     0.2    False\n",
       "6      1.643674e+09     NaN     True\n",
       "7      1.640995e+09     5.0     True\n",
       "8      1.667261e+09     NaN     True\n",
       "9      1.640995e+09     3.0    False"
      ]
     },
     "execution_count": 7,
     "metadata": {},
     "output_type": "execute_result"
    }
   ],
   "source": [
    "transactions_modeler.prepare_data()"
   ]
  },
  {
   "cell_type": "code",
   "execution_count": 8,
   "id": "161f2ddf",
   "metadata": {},
   "outputs": [
    {
     "name": "stdout",
     "output_type": "stream",
     "text": [
      "Changed columns to:\n",
      "customer_id           int64\n",
      "amount              float64\n",
      "transaction_date     object\n",
      "outcome                bool\n",
      "dtype: object\n",
      "\n"
     ]
    }
   ],
   "source": [
    "print(f\"Changed columns to:\\n{transactions_modeler.train_df.dtypes}\\n\")"
   ]
  },
  {
   "cell_type": "code",
   "execution_count": 9,
   "id": "93f4e2cb",
   "metadata": {},
   "outputs": [
    {
     "data": {
      "text/html": [
       "<div>\n",
       "<style scoped>\n",
       "    .dataframe tbody tr th:only-of-type {\n",
       "        vertical-align: middle;\n",
       "    }\n",
       "\n",
       "    .dataframe tbody tr th {\n",
       "        vertical-align: top;\n",
       "    }\n",
       "\n",
       "    .dataframe thead th {\n",
       "        text-align: right;\n",
       "    }\n",
       "</style>\n",
       "<table border=\"1\" class=\"dataframe\">\n",
       "  <thead>\n",
       "    <tr style=\"text-align: right;\">\n",
       "      <th></th>\n",
       "      <th>transaction_date</th>\n",
       "      <th>amount</th>\n",
       "      <th>outcome</th>\n",
       "    </tr>\n",
       "  </thead>\n",
       "  <tbody>\n",
       "    <tr>\n",
       "      <th>0</th>\n",
       "      <td>1.640995e+09</td>\n",
       "      <td>1.0000</td>\n",
       "      <td>False</td>\n",
       "    </tr>\n",
       "    <tr>\n",
       "      <th>1</th>\n",
       "      <td>1.659312e+09</td>\n",
       "      <td>3.0000</td>\n",
       "      <td>True</td>\n",
       "    </tr>\n",
       "    <tr>\n",
       "      <th>2</th>\n",
       "      <td>1.650845e+09</td>\n",
       "      <td>12.0000</td>\n",
       "      <td>True</td>\n",
       "    </tr>\n",
       "    <tr>\n",
       "      <th>3</th>\n",
       "      <td>1.669853e+09</td>\n",
       "      <td>6.0000</td>\n",
       "      <td>True</td>\n",
       "    </tr>\n",
       "    <tr>\n",
       "      <th>4</th>\n",
       "      <td>1.643674e+09</td>\n",
       "      <td>0.5000</td>\n",
       "      <td>False</td>\n",
       "    </tr>\n",
       "    <tr>\n",
       "      <th>5</th>\n",
       "      <td>1.650845e+09</td>\n",
       "      <td>0.2000</td>\n",
       "      <td>False</td>\n",
       "    </tr>\n",
       "    <tr>\n",
       "      <th>6</th>\n",
       "      <td>1.643674e+09</td>\n",
       "      <td>3.8375</td>\n",
       "      <td>True</td>\n",
       "    </tr>\n",
       "    <tr>\n",
       "      <th>7</th>\n",
       "      <td>1.640995e+09</td>\n",
       "      <td>5.0000</td>\n",
       "      <td>True</td>\n",
       "    </tr>\n",
       "    <tr>\n",
       "      <th>8</th>\n",
       "      <td>1.667261e+09</td>\n",
       "      <td>3.8375</td>\n",
       "      <td>True</td>\n",
       "    </tr>\n",
       "    <tr>\n",
       "      <th>9</th>\n",
       "      <td>1.640995e+09</td>\n",
       "      <td>3.0000</td>\n",
       "      <td>False</td>\n",
       "    </tr>\n",
       "  </tbody>\n",
       "</table>\n",
       "</div>"
      ],
      "text/plain": [
       "   transaction_date   amount  outcome\n",
       "0      1.640995e+09   1.0000    False\n",
       "1      1.659312e+09   3.0000     True\n",
       "2      1.650845e+09  12.0000     True\n",
       "3      1.669853e+09   6.0000     True\n",
       "4      1.643674e+09   0.5000    False\n",
       "5      1.650845e+09   0.2000    False\n",
       "6      1.643674e+09   3.8375     True\n",
       "7      1.640995e+09   5.0000     True\n",
       "8      1.667261e+09   3.8375     True\n",
       "9      1.640995e+09   3.0000    False"
      ]
     },
     "execution_count": 9,
     "metadata": {},
     "output_type": "execute_result"
    }
   ],
   "source": [
    "transactions_modeler.impute_missing()"
   ]
  },
  {
   "cell_type": "code",
   "execution_count": 10,
   "id": "d6a2bc08",
   "metadata": {},
   "outputs": [
    {
     "name": "stdout",
     "output_type": "stream",
     "text": [
      "Fitting  model\n"
     ]
    }
   ],
   "source": [
    "print(\"Fitting  model\")\n",
    "transactions_modeler.fit()"
   ]
  },
  {
   "cell_type": "code",
   "execution_count": 11,
   "id": "ceb714c8",
   "metadata": {},
   "outputs": [
    {
     "name": "stdout",
     "output_type": "stream",
     "text": [
      "Fit model:\n",
      "Gradient Boosting Model Summary:\n",
      "Feature Importance: [0.33333333 0.66666667]\n",
      "Model Parameters: {'ccp_alpha': 0.0, 'criterion': 'friedman_mse', 'init': None, 'learning_rate': 0.1, 'loss': 'deviance', 'max_depth': 3, 'max_features': None, 'max_leaf_nodes': None, 'min_impurity_decrease': 0.0, 'min_samples_leaf': 1, 'min_samples_split': 2, 'min_weight_fraction_leaf': 0.0, 'n_estimators': 100, 'n_iter_no_change': None, 'random_state': None, 'subsample': 1.0, 'tol': 0.0001, 'validation_fraction': 0.1, 'verbose': 0, 'warm_start': False}\n",
      "\n",
      "\n"
     ]
    }
   ],
   "source": [
    "print(f\"Fit model:\\n{transactions_modeler.model_summary()}\\n\")"
   ]
  },
  {
   "cell_type": "code",
   "execution_count": 12,
   "id": "83db3a5c",
   "metadata": {},
   "outputs": [
    {
     "name": "stdout",
     "output_type": "stream",
     "text": [
      "Predicted on training sample: [False  True  True  True False False  True  True  True False]\n",
      "\n",
      "Accuracy = 100.0%\n"
     ]
    }
   ],
   "source": [
    "in_sample_predictions = transactions_modeler.predict()\n",
    "print(f\"Predicted on training sample: {in_sample_predictions}\\n\")\n",
    "print(f'Accuracy = {sum(in_sample_predictions ==  [False, True, True, True, False, False, True, True, True, False])/.1}%')"
   ]
  },
  {
   "cell_type": "code",
   "execution_count": 13,
   "id": "81c52bc7",
   "metadata": {},
   "outputs": [
    {
     "name": "stdout",
     "output_type": "stream",
     "text": [
      "Loaded DataModeler sample df:\n",
      "Gradient Boosting Model Summary:\n",
      "Feature Importance: [0.33333333 0.66666667]\n",
      "Model Parameters: {'ccp_alpha': 0.0, 'criterion': 'friedman_mse', 'init': None, 'learning_rate': 0.1, 'loss': 'deviance', 'max_depth': 3, 'max_features': None, 'max_leaf_nodes': None, 'min_impurity_decrease': 0.0, 'min_samples_leaf': 1, 'min_samples_split': 2, 'min_weight_fraction_leaf': 0.0, 'n_estimators': 100, 'n_iter_no_change': None, 'random_state': None, 'subsample': 1.0, 'tol': 0.0001, 'validation_fraction': 0.1, 'verbose': 0, 'warm_start': False}\n",
      "\n",
      "\n"
     ]
    }
   ],
   "source": [
    "transactions_modeler.save(\"transact_modeler\")\n",
    "loaded_modeler = DataModeler.load(\"transact_modeler\")\n",
    "print(f\"Loaded DataModeler sample df:\\n{loaded_modeler.model_summary()}\\n\")\n"
   ]
  },
  {
   "cell_type": "code",
   "execution_count": 14,
   "id": "69037010",
   "metadata": {},
   "outputs": [
    {
     "name": "stdout",
     "output_type": "stream",
     "text": [
      "Changed columns to:\n",
      "transaction_date    float64\n",
      "amount              float64\n",
      "dtype: object\n",
      "\n"
     ]
    }
   ],
   "source": [
    "transact_test_sample = pd.DataFrame(\n",
    "    {\n",
    "        \"customer_id\": [21, 22, 23, 24, 25],\n",
    "        \"amount\": [0.5, np.nan, 8, 3, 2],\n",
    "        \"transaction_date\": [\n",
    "            '2022-02-01',\n",
    "            '2022-11-01',\n",
    "            '2022-06-01',\n",
    "            None,\n",
    "            '2022-02-01'\n",
    "        ]\n",
    "    }\n",
    ")\n",
    "adjusted_test_sample = transactions_modeler.prepare_data(transact_test_sample)\n",
    "\n",
    "print(f\"Changed columns to:\\n{adjusted_test_sample.dtypes}\\n\")"
   ]
  },
  {
   "cell_type": "code",
   "execution_count": 15,
   "id": "93a9a7df",
   "metadata": {},
   "outputs": [
    {
     "name": "stdout",
     "output_type": "stream",
     "text": [
      "Imputed missing as mean:\n",
      "   transaction_date  amount\n",
      "0      1.643674e+09  0.5000\n",
      "1      1.667261e+09  3.8375\n",
      "2      1.654042e+09  8.0000\n",
      "3      1.650845e+09  3.0000\n",
      "4      1.643674e+09  2.0000\n",
      "\n"
     ]
    }
   ],
   "source": [
    "filled_test_sample = transactions_modeler.impute_missing(adjusted_test_sample)\n",
    "print(f\"Imputed missing as mean:\\n{filled_test_sample}\\n\")"
   ]
  },
  {
   "cell_type": "code",
   "execution_count": 16,
   "id": "61bdda14",
   "metadata": {},
   "outputs": [
    {
     "name": "stdout",
     "output_type": "stream",
     "text": [
      "Predicted on out of sample data: [False  True  True False False]\n",
      "\n",
      "Accuracy = 100.0%\n"
     ]
    }
   ],
   "source": [
    "oos_predictions = transactions_modeler.predict(filled_test_sample)\n",
    "print(f\"Predicted on out of sample data: {oos_predictions}\\n\")\n",
    "print(f'Accuracy = {sum(oos_predictions == [False, True, True, False, False])/.05}%')"
   ]
  },
  {
   "cell_type": "code",
   "execution_count": null,
   "id": "71a4f7b1-b44b-47c2-a003-7a29afc505dd",
   "metadata": {},
   "outputs": [],
   "source": []
  }
 ],
 "metadata": {
  "kernelspec": {
   "display_name": "Python 3 (ipykernel)",
   "language": "python",
   "name": "python3"
  },
  "language_info": {
   "codemirror_mode": {
    "name": "ipython",
    "version": 3
   },
   "file_extension": ".py",
   "mimetype": "text/x-python",
   "name": "python",
   "nbconvert_exporter": "python",
   "pygments_lexer": "ipython3",
   "version": "3.9.13"
  }
 },
 "nbformat": 4,
 "nbformat_minor": 5
}
